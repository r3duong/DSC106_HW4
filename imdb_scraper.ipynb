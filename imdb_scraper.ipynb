{
 "cells": [
  {
   "cell_type": "code",
   "execution_count": 336,
   "metadata": {},
   "outputs": [],
   "source": [
    "%matplotlib inline\n",
    "import requests\n",
    "import bs4\n",
    "import numpy as np\n",
    "import pandas as pd\n",
    "import re\n",
    "from bs4 import BeautifulSoup\n",
    "from IPython.core.display import display, HTML\n",
    "import urllib.request\n",
    "import time"
   ]
  },
  {
   "cell_type": "code",
   "execution_count": 326,
   "metadata": {},
   "outputs": [],
   "source": [
    "imdb_url = 'https://www.imdb.com/name/nm0000168/?ref_=tt_cl_t5'"
   ]
  },
  {
   "cell_type": "code",
   "execution_count": 327,
   "metadata": {},
   "outputs": [],
   "source": [
    "response = requests.get(imdb_url)"
   ]
  },
  {
   "cell_type": "code",
   "execution_count": 328,
   "metadata": {},
   "outputs": [],
   "source": [
    "soup = bs4.BeautifulSoup(response.text)"
   ]
  },
  {
   "cell_type": "code",
   "execution_count": 329,
   "metadata": {},
   "outputs": [],
   "source": [
    "movies = []\n",
    "year = []\n",
    "ids = []"
   ]
  },
  {
   "cell_type": "code",
   "execution_count": 330,
   "metadata": {},
   "outputs": [],
   "source": [
    "for instance in soup.findAll(class_ = re.compile('filmo-row .+'), id = re.compile('actor-\\w*')):\n",
    "    if len(re.findall('[12][0-9]{3}', instance.find('span').text)) == 0 or float(re.findall('[12][0-9]{3}', instance.find('span').text)[0]) > 2019:\n",
    "        continue\n",
    "    if len(re.findall('(TV)|([sS]hort)|([vV]ideo)|([gG]ame)', instance.text)) > 0:\n",
    "        continue\n",
    "    if instance.find('b'):\n",
    "        movies.append(instance.find('b').text)\n",
    "    ids.append(re.findall('tt[0-9]*', instance.get('id'))[0])\n",
    "    if instance.find('span'):\n",
    "        year.append(re.findall('[12][0-9]{3}', instance.find('span').text)[0])"
   ]
  },
  {
   "cell_type": "code",
   "execution_count": 331,
   "metadata": {},
   "outputs": [],
   "source": [
    "sammyj_df = pd.DataFrame()"
   ]
  },
  {
   "cell_type": "code",
   "execution_count": 332,
   "metadata": {},
   "outputs": [],
   "source": [
    "sammyj_df['Movie'] = movies\n",
    "sammyj_df['Year'] = year\n",
    "sammyj_df['id'] = ids"
   ]
  },
  {
   "cell_type": "code",
   "execution_count": 333,
   "metadata": {},
   "outputs": [
    {
     "data": {
      "text/html": [
       "<div>\n",
       "<style scoped>\n",
       "    .dataframe tbody tr th:only-of-type {\n",
       "        vertical-align: middle;\n",
       "    }\n",
       "\n",
       "    .dataframe tbody tr th {\n",
       "        vertical-align: top;\n",
       "    }\n",
       "\n",
       "    .dataframe thead th {\n",
       "        text-align: right;\n",
       "    }\n",
       "</style>\n",
       "<table border=\"1\" class=\"dataframe\">\n",
       "  <thead>\n",
       "    <tr style=\"text-align: right;\">\n",
       "      <th></th>\n",
       "      <th>Movie</th>\n",
       "      <th>Year</th>\n",
       "      <th>id</th>\n",
       "    </tr>\n",
       "  </thead>\n",
       "  <tbody>\n",
       "    <tr>\n",
       "      <th>0</th>\n",
       "      <td>Spider-Man: Far from Home</td>\n",
       "      <td>2019</td>\n",
       "      <td>tt6320628</td>\n",
       "    </tr>\n",
       "    <tr>\n",
       "      <th>1</th>\n",
       "      <td>Shaft</td>\n",
       "      <td>2019</td>\n",
       "      <td>tt4463894</td>\n",
       "    </tr>\n",
       "    <tr>\n",
       "      <th>2</th>\n",
       "      <td>Captain Marvel</td>\n",
       "      <td>2019</td>\n",
       "      <td>tt4154664</td>\n",
       "    </tr>\n",
       "    <tr>\n",
       "      <th>3</th>\n",
       "      <td>Glass</td>\n",
       "      <td>2019</td>\n",
       "      <td>tt6823368</td>\n",
       "    </tr>\n",
       "    <tr>\n",
       "      <th>4</th>\n",
       "      <td>Life Itself</td>\n",
       "      <td>2018</td>\n",
       "      <td>tt5989218</td>\n",
       "    </tr>\n",
       "  </tbody>\n",
       "</table>\n",
       "</div>"
      ],
      "text/plain": [
       "                       Movie  Year         id\n",
       "0  Spider-Man: Far from Home  2019  tt6320628\n",
       "1                      Shaft  2019  tt4463894\n",
       "2             Captain Marvel  2019  tt4154664\n",
       "3                      Glass  2019  tt6823368\n",
       "4                Life Itself  2018  tt5989218"
      ]
     },
     "execution_count": 333,
     "metadata": {},
     "output_type": "execute_result"
    }
   ],
   "source": [
    "sammyj_df.head()"
   ]
  },
  {
   "cell_type": "code",
   "execution_count": 341,
   "metadata": {},
   "outputs": [],
   "source": [
    "# Fetch the box office numbers\n",
    "dates = []\n",
    "total_domestic = []\n",
    "total_international = []\n",
    "total = []\n",
    "delete_ids = []\n",
    "\n",
    "imdb_id = ids[0]\n",
    "for movie in ids:\n",
    "    time.sleep(1)\n",
    "    base = 'https://www.boxofficemojo.com'\n",
    "    url = base + '/title/' + movie\n",
    "    soup = bs4.BeautifulSoup(requests.get(url).text)\n",
    "    if not soup.findAll(class_ = 'a-bordered a-horizontal-stripes a-size-base-plus'):\n",
    "        delete_ids.append(movie)\n",
    "        dates.append('delete')\n",
    "        total_domestic.append('delete')\n",
    "        total_international.append('delete')\n",
    "        total.append('delete')\n",
    "        continue\n",
    "    cool = soup.findAll(class_ = 'a-bordered a-horizontal-stripes a-size-base-plus')[0].findAll('td')\n",
    "    date = cool[1].text\n",
    "    domestic = cool[3].text\n",
    "    international = cool[4].text\n",
    "    total_bo = cool[5].text\n",
    "    \n",
    "    dates.append(date)\n",
    "    if not '$' in domestic:\n",
    "        total_domestic.append(0)\n",
    "    else:\n",
    "        total_domestic.append(domestic)\n",
    "        \n",
    "    if not '$' in international:\n",
    "        total_international.append(0)\n",
    "    else:\n",
    "        total_international.append(international)\n",
    "    total.append(total_bo)\n",
    "\n",
    "\n"
   ]
  },
  {
   "cell_type": "code",
   "execution_count": 350,
   "metadata": {},
   "outputs": [
    {
     "data": {
      "text/plain": [
       "['June 28-July 10, 2019',\n",
       " 'June 14, 2019',\n",
       " 'March 6-15, 2019',\n",
       " 'January 16-18, 2019',\n",
       " 'September 21-March 8, 2019',\n",
       " 'June 14-September 27, 2018',\n",
       " 'April 25-May 11, 2018',\n",
       " 'delete',\n",
       " 'August 16-October 12, 2017',\n",
       " 'March 8-25, 2017',\n",
       " 'January 18-February 24, 2017',\n",
       " 'September 28-February 4, 2017',\n",
       " 'June 29-July 30, 2016',\n",
       " 'June 29-October 6, 2016',\n",
       " 'December 25-February 27, 2016',\n",
       " 'December 4-December 2, 2016',\n",
       " 'April 15-November 24, 2016',\n",
       " 'April 22-July 4, 2015',\n",
       " 'January 30-September 11, 2015',\n",
       " 'June 12-January 30, 2015',\n",
       " 'March 26-April 19, 2014',\n",
       " 'January 30-May 7, 2014',\n",
       " 'March 6-June 11, 2014',\n",
       " 'January 3-September 18, 2014',\n",
       " 'July 10-October 25, 2013',\n",
       " 'December 25-May 12, 2013',\n",
       " 'August 23, 2012-May 22, 2014',\n",
       " 'April 25-August 17, 2012',\n",
       " 'May 4, 2012',\n",
       " 'May 18-August 23, 2012',\n",
       " 'July 22-January 20, 2012',\n",
       " 'April 21-November 3, 2011',\n",
       " 'delete',\n",
       " 'August 6-December 3, 2010',\n",
       " 'May 26-August 5, 2011',\n",
       " 'April 28-June 12, 2010',\n",
       " 'October 10-September 24, 2010',\n",
       " 'May 6, 2010-January 6, 2012',\n",
       " 'August 19-January 1, 2010',\n",
       " 'December 24-June 6, 2009',\n",
       " 'November 7-July 17, 2009',\n",
       " 'delete',\n",
       " 'September 18-January 8, 2009',\n",
       " 'August 14-October 30, 2008',\n",
       " 'April 30-September 27, 2008',\n",
       " 'February 13-April 10, 2008',\n",
       " 'January 18-September 10, 2009',\n",
       " 'June 22-November 22, 2008',\n",
       " 'August 24-May 22, 2008',\n",
       " 'August 2, 2007',\n",
       " 'December 15, 2006-August 28, 2008',\n",
       " 'March 2-October 18, 2007',\n",
       " 'August 17-November 10, 2006',\n",
       " 'February 17-January 27, 2007',\n",
       " 'September 9-October 12, 2006',\n",
       " 'May 18-July 9, 2005',\n",
       " 'April 21-April 28, 2006',\n",
       " 'January 14-June 3, 2006',\n",
       " 'November 5-February 3, 2005',\n",
       " 'April 16-December 10, 2004',\n",
       " 'February 27-April 8, 2005',\n",
       " 'May 7-June 30, 2005',\n",
       " 'August 8-January 13, 2004',\n",
       " 'March 28-April 7, 2004',\n",
       " 'August 9-November 8, 2002',\n",
       " 'October 25, 2002-January 30, 2004',\n",
       " 'May 16-August 21, 2002',\n",
       " 'April 12-February 14, 2003',\n",
       " 'December 7, 2001-October 30, 2003',\n",
       " 'March 2, 2001',\n",
       " 'November 22-January 18, 2001',\n",
       " 'June 16-November 24, 2000',\n",
       " 'April 7, 2000',\n",
       " 'July 30, 1999',\n",
       " 'May 19-November 5, 1999',\n",
       " 'November 6, 1998',\n",
       " 'July 31, 1998',\n",
       " 'June 26, 1998',\n",
       " 'February 13, 1998',\n",
       " 'December 25, 1997',\n",
       " 'November 7, 1997',\n",
       " 'July 30, 1997',\n",
       " 'October 11, 1996',\n",
       " 'July 24, 1996',\n",
       " 'October 11, 1996',\n",
       " 'May 3, 1996',\n",
       " 'February 28, 1997',\n",
       " 'June 2, 1995',\n",
       " 'May 19-December 1, 1995',\n",
       " 'April 21, 1995',\n",
       " 'March 17, 1995',\n",
       " 'June 21, 1996',\n",
       " 'September 16, 1994',\n",
       " 'October 14, 1994',\n",
       " 'delete',\n",
       " 'August 19, 1994',\n",
       " 'September 10, 1993',\n",
       " 'June 11-April 15, 1994',\n",
       " 'May 28, 1993',\n",
       " 'March 5, 1993',\n",
       " 'February 5, 1993',\n",
       " 'April 24, 1992',\n",
       " 'November 6, 1992',\n",
       " 'January 17, 1992',\n",
       " 'September 18, 1992',\n",
       " 'November 8, 1991',\n",
       " 'August 14, 1992',\n",
       " 'June 7, 1991',\n",
       " 'November 9, 1990',\n",
       " 'September 19, 1990',\n",
       " 'August 17, 1990',\n",
       " 'August 3, 1990',\n",
       " 'June 22, 1990',\n",
       " 'May 11, 1990',\n",
       " 'September 15, 1989',\n",
       " 'June 30, 1989',\n",
       " 'June 29, 1988',\n",
       " 'February 12, 1988',\n",
       " 'delete',\n",
       " 'November 20, 1981',\n",
       " 'delete',\n",
       " 'delete']"
      ]
     },
     "execution_count": 350,
     "metadata": {},
     "output_type": "execute_result"
    }
   ],
   "source": [
    "dates"
   ]
  },
  {
   "cell_type": "code",
   "execution_count": 343,
   "metadata": {},
   "outputs": [],
   "source": [
    "sammyj_df['Domestic'] = total_domestic\n",
    "sammyj_df['International'] = total_international\n",
    "sammyj_df['Total'] = total\n",
    "sammyj_df['Dates'] = dates"
   ]
  },
  {
   "cell_type": "code",
   "execution_count": 363,
   "metadata": {},
   "outputs": [],
   "source": [
    "sammyj_ids_df = sammyj_df.set_index('id')\n",
    "sammyj_ids_df = sammyj_ids_df.drop(delete_ids)"
   ]
  },
  {
   "cell_type": "code",
   "execution_count": 372,
   "metadata": {},
   "outputs": [],
   "source": [
    "def find_dates(date_string):\n",
    "    return re.findall('[A-Z][a-z]+ [1-9]{1,2}', date_string)[0]"
   ]
  },
  {
   "cell_type": "code",
   "execution_count": 373,
   "metadata": {},
   "outputs": [],
   "source": [
    "def find_season(month):\n",
    "    if 'January' in month:\n",
    "        return 'Winter'\n",
    "    elif 'February' in month:\n",
    "        return 'Winter'\n",
    "    elif 'March' in month:\n",
    "        return 'Spring'\n",
    "    elif 'April' in month:\n",
    "        return 'Spring'\n",
    "    elif 'May' in month:\n",
    "        return 'Spring'\n",
    "    elif 'June' in month:\n",
    "        return 'Summer'\n",
    "    elif 'July' in month:\n",
    "        return 'Summer'\n",
    "    elif 'August' in month:\n",
    "        return 'Summer'\n",
    "    elif 'September' in month:\n",
    "        return 'Fall'\n",
    "    elif 'October' in month:\n",
    "        return 'Fall'\n",
    "    elif 'November' in month:\n",
    "        return 'Fall'\n",
    "    else:\n",
    "        return 'Winter'"
   ]
  },
  {
   "cell_type": "code",
   "execution_count": 383,
   "metadata": {},
   "outputs": [],
   "source": [
    "def find_year(date_string):\n",
    "    return re.findall('[12][091][0-9]{2}', date_string)[0]"
   ]
  },
  {
   "cell_type": "code",
   "execution_count": 375,
   "metadata": {},
   "outputs": [],
   "source": [
    "sammyj_ids_df['Release Date'] = sammyj_ids_df['Dates'].apply(find_dates)"
   ]
  },
  {
   "cell_type": "code",
   "execution_count": 376,
   "metadata": {},
   "outputs": [],
   "source": [
    "sammyj_ids_df['Season of Release'] = sammyj_ids_df['Release Date'].apply(find_season)"
   ]
  },
  {
   "cell_type": "code",
   "execution_count": 384,
   "metadata": {},
   "outputs": [],
   "source": [
    "sammyj_ids_df['Year of Release'] = sammyj_ids_df['Dates'].apply(find_year)"
   ]
  },
  {
   "cell_type": "code",
   "execution_count": 386,
   "metadata": {
    "scrolled": false
   },
   "outputs": [
    {
     "data": {
      "text/html": [
       "<div>\n",
       "<style scoped>\n",
       "    .dataframe tbody tr th:only-of-type {\n",
       "        vertical-align: middle;\n",
       "    }\n",
       "\n",
       "    .dataframe tbody tr th {\n",
       "        vertical-align: top;\n",
       "    }\n",
       "\n",
       "    .dataframe thead th {\n",
       "        text-align: right;\n",
       "    }\n",
       "</style>\n",
       "<table border=\"1\" class=\"dataframe\">\n",
       "  <thead>\n",
       "    <tr style=\"text-align: right;\">\n",
       "      <th></th>\n",
       "      <th>Movie</th>\n",
       "      <th>Year</th>\n",
       "      <th>Domestic</th>\n",
       "      <th>International</th>\n",
       "      <th>Total</th>\n",
       "      <th>Dates</th>\n",
       "      <th>Release Date</th>\n",
       "      <th>Season of Release</th>\n",
       "      <th>Year of Release</th>\n",
       "    </tr>\n",
       "    <tr>\n",
       "      <th>id</th>\n",
       "      <th></th>\n",
       "      <th></th>\n",
       "      <th></th>\n",
       "      <th></th>\n",
       "      <th></th>\n",
       "      <th></th>\n",
       "      <th></th>\n",
       "      <th></th>\n",
       "      <th></th>\n",
       "    </tr>\n",
       "  </thead>\n",
       "  <tbody>\n",
       "    <tr>\n",
       "      <th>tt6320628</th>\n",
       "      <td>Spider-Man: Far from Home</td>\n",
       "      <td>2019</td>\n",
       "      <td>$390,532,085</td>\n",
       "      <td>$741,396,434</td>\n",
       "      <td>$1,131,928,519</td>\n",
       "      <td>June 28-July 10, 2019</td>\n",
       "      <td>June 28</td>\n",
       "      <td>Summer</td>\n",
       "      <td>2019</td>\n",
       "    </tr>\n",
       "    <tr>\n",
       "      <th>tt4463894</th>\n",
       "      <td>Shaft</td>\n",
       "      <td>2019</td>\n",
       "      <td>$21,360,215</td>\n",
       "      <td>0</td>\n",
       "      <td>$21,360,215</td>\n",
       "      <td>June 14, 2019</td>\n",
       "      <td>June 14</td>\n",
       "      <td>Summer</td>\n",
       "      <td>2019</td>\n",
       "    </tr>\n",
       "    <tr>\n",
       "      <th>tt4154664</th>\n",
       "      <td>Captain Marvel</td>\n",
       "      <td>2019</td>\n",
       "      <td>$426,829,839</td>\n",
       "      <td>$701,444,955</td>\n",
       "      <td>$1,128,274,794</td>\n",
       "      <td>March 6-15, 2019</td>\n",
       "      <td>March 6</td>\n",
       "      <td>Spring</td>\n",
       "      <td>2019</td>\n",
       "    </tr>\n",
       "    <tr>\n",
       "      <th>tt6823368</th>\n",
       "      <td>Glass</td>\n",
       "      <td>2019</td>\n",
       "      <td>$111,035,005</td>\n",
       "      <td>$135,950,571</td>\n",
       "      <td>$246,985,576</td>\n",
       "      <td>January 16-18, 2019</td>\n",
       "      <td>January 16</td>\n",
       "      <td>Winter</td>\n",
       "      <td>2019</td>\n",
       "    </tr>\n",
       "    <tr>\n",
       "      <th>tt5989218</th>\n",
       "      <td>Life Itself</td>\n",
       "      <td>2018</td>\n",
       "      <td>$4,102,648</td>\n",
       "      <td>$3,687,623</td>\n",
       "      <td>$7,790,271</td>\n",
       "      <td>September 21-March 8, 2019</td>\n",
       "      <td>September 21</td>\n",
       "      <td>Fall</td>\n",
       "      <td>2019</td>\n",
       "    </tr>\n",
       "  </tbody>\n",
       "</table>\n",
       "</div>"
      ],
      "text/plain": [
       "                               Movie  Year      Domestic International  \\\n",
       "id                                                                       \n",
       "tt6320628  Spider-Man: Far from Home  2019  $390,532,085  $741,396,434   \n",
       "tt4463894                      Shaft  2019   $21,360,215             0   \n",
       "tt4154664             Captain Marvel  2019  $426,829,839  $701,444,955   \n",
       "tt6823368                      Glass  2019  $111,035,005  $135,950,571   \n",
       "tt5989218                Life Itself  2018    $4,102,648    $3,687,623   \n",
       "\n",
       "                    Total                       Dates  Release Date  \\\n",
       "id                                                                    \n",
       "tt6320628  $1,131,928,519       June 28-July 10, 2019       June 28   \n",
       "tt4463894     $21,360,215               June 14, 2019       June 14   \n",
       "tt4154664  $1,128,274,794            March 6-15, 2019       March 6   \n",
       "tt6823368    $246,985,576         January 16-18, 2019    January 16   \n",
       "tt5989218      $7,790,271  September 21-March 8, 2019  September 21   \n",
       "\n",
       "          Season of Release Year of Release  \n",
       "id                                           \n",
       "tt6320628            Summer            2019  \n",
       "tt4463894            Summer            2019  \n",
       "tt4154664            Spring            2019  \n",
       "tt6823368            Winter            2019  \n",
       "tt5989218              Fall            2019  "
      ]
     },
     "execution_count": 386,
     "metadata": {},
     "output_type": "execute_result"
    }
   ],
   "source": [
    "sammyj_ids_df.head()"
   ]
  },
  {
   "cell_type": "code",
   "execution_count": 403,
   "metadata": {},
   "outputs": [],
   "source": [
    "sammyj_ids_df[['Domestic', 'International', 'Total']] = sammyj_ids_df[['Domestic', 'International', 'Total']].replace('[\\$,]', '', regex=True).astype(float)"
   ]
  },
  {
   "cell_type": "code",
   "execution_count": 405,
   "metadata": {},
   "outputs": [],
   "source": [
    "sammyj_ids_df.to_csv('sammyj_data.csv')"
   ]
  },
  {
   "cell_type": "code",
   "execution_count": 412,
   "metadata": {},
   "outputs": [],
   "source": [
    "(sammyj_ids_df.groupby('Season of Release')['Total'].mean()/1000).to_csv('Total Mean Gross.csv')"
   ]
  },
  {
   "cell_type": "code",
   "execution_count": 409,
   "metadata": {},
   "outputs": [
    {
     "data": {
      "text/plain": [
       "Season of Release\n",
       "Fall      23\n",
       "Spring    34\n",
       "Summer    36\n",
       "Winter    22\n",
       "Name: Movie, dtype: int64"
      ]
     },
     "execution_count": 409,
     "metadata": {},
     "output_type": "execute_result"
    }
   ],
   "source": [
    "sammyj_ids_df.groupby('Season of Release')['Movie'].count()"
   ]
  },
  {
   "cell_type": "code",
   "execution_count": 414,
   "metadata": {},
   "outputs": [
    {
     "data": {
      "text/plain": [
       "Season of Release\n",
       "Fall      tt0317705\n",
       "Spring    tt4154756\n",
       "Summer    tt3606756\n",
       "Winter    tt1853728\n",
       "Name: Total, dtype: object"
      ]
     },
     "execution_count": 414,
     "metadata": {},
     "output_type": "execute_result"
    }
   ],
   "source": [
    "sammyj_ids_df.groupby('Season of Release')['Total'].idxmax()"
   ]
  },
  {
   "cell_type": "code",
   "execution_count": 422,
   "metadata": {},
   "outputs": [
    {
     "data": {
      "text/html": [
       "<div>\n",
       "<style scoped>\n",
       "    .dataframe tbody tr th:only-of-type {\n",
       "        vertical-align: middle;\n",
       "    }\n",
       "\n",
       "    .dataframe tbody tr th {\n",
       "        vertical-align: top;\n",
       "    }\n",
       "\n",
       "    .dataframe thead th {\n",
       "        text-align: right;\n",
       "    }\n",
       "</style>\n",
       "<table border=\"1\" class=\"dataframe\">\n",
       "  <thead>\n",
       "    <tr style=\"text-align: right;\">\n",
       "      <th></th>\n",
       "      <th>Movie</th>\n",
       "      <th>Year</th>\n",
       "      <th>Domestic</th>\n",
       "      <th>International</th>\n",
       "      <th>Total</th>\n",
       "      <th>Dates</th>\n",
       "      <th>Release Date</th>\n",
       "      <th>Season of Release</th>\n",
       "      <th>Year of Release</th>\n",
       "    </tr>\n",
       "    <tr>\n",
       "      <th>id</th>\n",
       "      <th></th>\n",
       "      <th></th>\n",
       "      <th></th>\n",
       "      <th></th>\n",
       "      <th></th>\n",
       "      <th></th>\n",
       "      <th></th>\n",
       "      <th></th>\n",
       "      <th></th>\n",
       "    </tr>\n",
       "  </thead>\n",
       "  <tbody>\n",
       "    <tr>\n",
       "      <th>tt0317705</th>\n",
       "      <td>The Incredibles</td>\n",
       "      <td>2004</td>\n",
       "      <td>261441092.0</td>\n",
       "      <td>3.700010e+08</td>\n",
       "      <td>6.314421e+08</td>\n",
       "      <td>November 5-February 3, 2005</td>\n",
       "      <td>November 5</td>\n",
       "      <td>Fall</td>\n",
       "      <td>2005</td>\n",
       "    </tr>\n",
       "    <tr>\n",
       "      <th>tt4154756</th>\n",
       "      <td>Avengers: Infinity War</td>\n",
       "      <td>2018</td>\n",
       "      <td>678815482.0</td>\n",
       "      <td>1.369544e+09</td>\n",
       "      <td>2.048360e+09</td>\n",
       "      <td>April 25-May 11, 2018</td>\n",
       "      <td>April 25</td>\n",
       "      <td>Spring</td>\n",
       "      <td>2018</td>\n",
       "    </tr>\n",
       "    <tr>\n",
       "      <th>tt3606756</th>\n",
       "      <td>Incredibles 2</td>\n",
       "      <td>2018</td>\n",
       "      <td>608581744.0</td>\n",
       "      <td>6.342236e+08</td>\n",
       "      <td>1.242805e+09</td>\n",
       "      <td>June 14-September 27, 2018</td>\n",
       "      <td>June 14</td>\n",
       "      <td>Summer</td>\n",
       "      <td>2018</td>\n",
       "    </tr>\n",
       "    <tr>\n",
       "      <th>tt1853728</th>\n",
       "      <td>Django Unchained</td>\n",
       "      <td>2012</td>\n",
       "      <td>162805434.0</td>\n",
       "      <td>2.625628e+08</td>\n",
       "      <td>4.253682e+08</td>\n",
       "      <td>December 25-May 12, 2013</td>\n",
       "      <td>December 25</td>\n",
       "      <td>Winter</td>\n",
       "      <td>2013</td>\n",
       "    </tr>\n",
       "  </tbody>\n",
       "</table>\n",
       "</div>"
      ],
      "text/plain": [
       "                            Movie  Year     Domestic  International  \\\n",
       "id                                                                    \n",
       "tt0317705         The Incredibles  2004  261441092.0   3.700010e+08   \n",
       "tt4154756  Avengers: Infinity War  2018  678815482.0   1.369544e+09   \n",
       "tt3606756           Incredibles 2  2018  608581744.0   6.342236e+08   \n",
       "tt1853728        Django Unchained  2012  162805434.0   2.625628e+08   \n",
       "\n",
       "                  Total                        Dates Release Date  \\\n",
       "id                                                                  \n",
       "tt0317705  6.314421e+08  November 5-February 3, 2005   November 5   \n",
       "tt4154756  2.048360e+09        April 25-May 11, 2018     April 25   \n",
       "tt3606756  1.242805e+09   June 14-September 27, 2018      June 14   \n",
       "tt1853728  4.253682e+08     December 25-May 12, 2013  December 25   \n",
       "\n",
       "          Season of Release Year of Release  \n",
       "id                                           \n",
       "tt0317705              Fall            2005  \n",
       "tt4154756            Spring            2018  \n",
       "tt3606756            Summer            2018  \n",
       "tt1853728            Winter            2013  "
      ]
     },
     "execution_count": 422,
     "metadata": {},
     "output_type": "execute_result"
    }
   ],
   "source": [
    "sammyj_ids_df.loc[['tt0317705', 'tt4154756' ,'tt3606756', 'tt1853728']]"
   ]
  },
  {
   "cell_type": "code",
   "execution_count": 423,
   "metadata": {},
   "outputs": [
    {
     "data": {
      "text/plain": [
       "'tt4154756'"
      ]
     },
     "execution_count": 423,
     "metadata": {},
     "output_type": "execute_result"
    }
   ],
   "source": [
    "sammyj_ids_df['Total'].idxmax()"
   ]
  },
  {
   "cell_type": "code",
   "execution_count": 429,
   "metadata": {},
   "outputs": [
    {
     "ename": "KeyError",
     "evalue": "\"[('tt4154756', 'tt0848228')] not found in axis\"",
     "output_type": "error",
     "traceback": [
      "\u001b[1;31m---------------------------------------------------------------------------\u001b[0m",
      "\u001b[1;31mKeyError\u001b[0m                                  Traceback (most recent call last)",
      "\u001b[1;32m<ipython-input-429-97485d8a2dd4>\u001b[0m in \u001b[0;36m<module>\u001b[1;34m\u001b[0m\n\u001b[1;32m----> 1\u001b[1;33m \u001b[0msammyj_ids_df\u001b[0m\u001b[1;33m.\u001b[0m\u001b[0mdrop\u001b[0m\u001b[1;33m(\u001b[0m\u001b[1;33m[\u001b[0m\u001b[1;33m[\u001b[0m\u001b[1;34m'tt4154756'\u001b[0m\u001b[1;33m,\u001b[0m\u001b[1;34m'tt0848228'\u001b[0m\u001b[1;33m]\u001b[0m\u001b[1;33m]\u001b[0m\u001b[1;33m,\u001b[0m \u001b[0maxis\u001b[0m \u001b[1;33m=\u001b[0m \u001b[1;36m0\u001b[0m\u001b[1;33m)\u001b[0m\u001b[1;33m[\u001b[0m\u001b[1;34m'Total'\u001b[0m\u001b[1;33m]\u001b[0m\u001b[1;33m.\u001b[0m\u001b[0midxmax\u001b[0m\u001b[1;33m(\u001b[0m\u001b[1;33m)\u001b[0m\u001b[1;33m\u001b[0m\u001b[1;33m\u001b[0m\u001b[0m\n\u001b[0m",
      "\u001b[1;32m~\\Anaconda3\\lib\\site-packages\\pandas\\core\\frame.py\u001b[0m in \u001b[0;36mdrop\u001b[1;34m(self, labels, axis, index, columns, level, inplace, errors)\u001b[0m\n\u001b[0;32m   3695\u001b[0m                                            \u001b[0mindex\u001b[0m\u001b[1;33m=\u001b[0m\u001b[0mindex\u001b[0m\u001b[1;33m,\u001b[0m \u001b[0mcolumns\u001b[0m\u001b[1;33m=\u001b[0m\u001b[0mcolumns\u001b[0m\u001b[1;33m,\u001b[0m\u001b[1;33m\u001b[0m\u001b[1;33m\u001b[0m\u001b[0m\n\u001b[0;32m   3696\u001b[0m                                            \u001b[0mlevel\u001b[0m\u001b[1;33m=\u001b[0m\u001b[0mlevel\u001b[0m\u001b[1;33m,\u001b[0m \u001b[0minplace\u001b[0m\u001b[1;33m=\u001b[0m\u001b[0minplace\u001b[0m\u001b[1;33m,\u001b[0m\u001b[1;33m\u001b[0m\u001b[1;33m\u001b[0m\u001b[0m\n\u001b[1;32m-> 3697\u001b[1;33m                                            errors=errors)\n\u001b[0m\u001b[0;32m   3698\u001b[0m \u001b[1;33m\u001b[0m\u001b[0m\n\u001b[0;32m   3699\u001b[0m     @rewrite_axis_style_signature('mapper', [('copy', True),\n",
      "\u001b[1;32m~\\Anaconda3\\lib\\site-packages\\pandas\\core\\generic.py\u001b[0m in \u001b[0;36mdrop\u001b[1;34m(self, labels, axis, index, columns, level, inplace, errors)\u001b[0m\n\u001b[0;32m   3109\u001b[0m         \u001b[1;32mfor\u001b[0m \u001b[0maxis\u001b[0m\u001b[1;33m,\u001b[0m \u001b[0mlabels\u001b[0m \u001b[1;32min\u001b[0m \u001b[0maxes\u001b[0m\u001b[1;33m.\u001b[0m\u001b[0mitems\u001b[0m\u001b[1;33m(\u001b[0m\u001b[1;33m)\u001b[0m\u001b[1;33m:\u001b[0m\u001b[1;33m\u001b[0m\u001b[1;33m\u001b[0m\u001b[0m\n\u001b[0;32m   3110\u001b[0m             \u001b[1;32mif\u001b[0m \u001b[0mlabels\u001b[0m \u001b[1;32mis\u001b[0m \u001b[1;32mnot\u001b[0m \u001b[1;32mNone\u001b[0m\u001b[1;33m:\u001b[0m\u001b[1;33m\u001b[0m\u001b[1;33m\u001b[0m\u001b[0m\n\u001b[1;32m-> 3111\u001b[1;33m                 \u001b[0mobj\u001b[0m \u001b[1;33m=\u001b[0m \u001b[0mobj\u001b[0m\u001b[1;33m.\u001b[0m\u001b[0m_drop_axis\u001b[0m\u001b[1;33m(\u001b[0m\u001b[0mlabels\u001b[0m\u001b[1;33m,\u001b[0m \u001b[0maxis\u001b[0m\u001b[1;33m,\u001b[0m \u001b[0mlevel\u001b[0m\u001b[1;33m=\u001b[0m\u001b[0mlevel\u001b[0m\u001b[1;33m,\u001b[0m \u001b[0merrors\u001b[0m\u001b[1;33m=\u001b[0m\u001b[0merrors\u001b[0m\u001b[1;33m)\u001b[0m\u001b[1;33m\u001b[0m\u001b[1;33m\u001b[0m\u001b[0m\n\u001b[0m\u001b[0;32m   3112\u001b[0m \u001b[1;33m\u001b[0m\u001b[0m\n\u001b[0;32m   3113\u001b[0m         \u001b[1;32mif\u001b[0m \u001b[0minplace\u001b[0m\u001b[1;33m:\u001b[0m\u001b[1;33m\u001b[0m\u001b[1;33m\u001b[0m\u001b[0m\n",
      "\u001b[1;32m~\\Anaconda3\\lib\\site-packages\\pandas\\core\\generic.py\u001b[0m in \u001b[0;36m_drop_axis\u001b[1;34m(self, labels, axis, level, errors)\u001b[0m\n\u001b[0;32m   3141\u001b[0m                 \u001b[0mnew_axis\u001b[0m \u001b[1;33m=\u001b[0m \u001b[0maxis\u001b[0m\u001b[1;33m.\u001b[0m\u001b[0mdrop\u001b[0m\u001b[1;33m(\u001b[0m\u001b[0mlabels\u001b[0m\u001b[1;33m,\u001b[0m \u001b[0mlevel\u001b[0m\u001b[1;33m=\u001b[0m\u001b[0mlevel\u001b[0m\u001b[1;33m,\u001b[0m \u001b[0merrors\u001b[0m\u001b[1;33m=\u001b[0m\u001b[0merrors\u001b[0m\u001b[1;33m)\u001b[0m\u001b[1;33m\u001b[0m\u001b[1;33m\u001b[0m\u001b[0m\n\u001b[0;32m   3142\u001b[0m             \u001b[1;32melse\u001b[0m\u001b[1;33m:\u001b[0m\u001b[1;33m\u001b[0m\u001b[1;33m\u001b[0m\u001b[0m\n\u001b[1;32m-> 3143\u001b[1;33m                 \u001b[0mnew_axis\u001b[0m \u001b[1;33m=\u001b[0m \u001b[0maxis\u001b[0m\u001b[1;33m.\u001b[0m\u001b[0mdrop\u001b[0m\u001b[1;33m(\u001b[0m\u001b[0mlabels\u001b[0m\u001b[1;33m,\u001b[0m \u001b[0merrors\u001b[0m\u001b[1;33m=\u001b[0m\u001b[0merrors\u001b[0m\u001b[1;33m)\u001b[0m\u001b[1;33m\u001b[0m\u001b[1;33m\u001b[0m\u001b[0m\n\u001b[0m\u001b[0;32m   3144\u001b[0m             \u001b[0mresult\u001b[0m \u001b[1;33m=\u001b[0m \u001b[0mself\u001b[0m\u001b[1;33m.\u001b[0m\u001b[0mreindex\u001b[0m\u001b[1;33m(\u001b[0m\u001b[1;33m**\u001b[0m\u001b[1;33m{\u001b[0m\u001b[0maxis_name\u001b[0m\u001b[1;33m:\u001b[0m \u001b[0mnew_axis\u001b[0m\u001b[1;33m}\u001b[0m\u001b[1;33m)\u001b[0m\u001b[1;33m\u001b[0m\u001b[1;33m\u001b[0m\u001b[0m\n\u001b[0;32m   3145\u001b[0m \u001b[1;33m\u001b[0m\u001b[0m\n",
      "\u001b[1;32m~\\Anaconda3\\lib\\site-packages\\pandas\\core\\indexes\\base.py\u001b[0m in \u001b[0;36mdrop\u001b[1;34m(self, labels, errors)\u001b[0m\n\u001b[0;32m   4402\u001b[0m             \u001b[1;32mif\u001b[0m \u001b[0merrors\u001b[0m \u001b[1;33m!=\u001b[0m \u001b[1;34m'ignore'\u001b[0m\u001b[1;33m:\u001b[0m\u001b[1;33m\u001b[0m\u001b[1;33m\u001b[0m\u001b[0m\n\u001b[0;32m   4403\u001b[0m                 raise KeyError(\n\u001b[1;32m-> 4404\u001b[1;33m                     '{} not found in axis'.format(labels[mask]))\n\u001b[0m\u001b[0;32m   4405\u001b[0m             \u001b[0mindexer\u001b[0m \u001b[1;33m=\u001b[0m \u001b[0mindexer\u001b[0m\u001b[1;33m[\u001b[0m\u001b[1;33m~\u001b[0m\u001b[0mmask\u001b[0m\u001b[1;33m]\u001b[0m\u001b[1;33m\u001b[0m\u001b[1;33m\u001b[0m\u001b[0m\n\u001b[0;32m   4406\u001b[0m         \u001b[1;32mreturn\u001b[0m \u001b[0mself\u001b[0m\u001b[1;33m.\u001b[0m\u001b[0mdelete\u001b[0m\u001b[1;33m(\u001b[0m\u001b[0mindexer\u001b[0m\u001b[1;33m)\u001b[0m\u001b[1;33m\u001b[0m\u001b[1;33m\u001b[0m\u001b[0m\n",
      "\u001b[1;31mKeyError\u001b[0m: \"[('tt4154756', 'tt0848228')] not found in axis\""
     ]
    }
   ],
   "source": [
    "sammyj_ids_df.drop([['tt4154756','tt0848228']], axis = 0)['Total'].idxmax()"
   ]
  },
  {
   "cell_type": "code",
   "execution_count": 428,
   "metadata": {},
   "outputs": [
    {
     "data": {
      "text/html": [
       "<div>\n",
       "<style scoped>\n",
       "    .dataframe tbody tr th:only-of-type {\n",
       "        vertical-align: middle;\n",
       "    }\n",
       "\n",
       "    .dataframe tbody tr th {\n",
       "        vertical-align: top;\n",
       "    }\n",
       "\n",
       "    .dataframe thead th {\n",
       "        text-align: right;\n",
       "    }\n",
       "</style>\n",
       "<table border=\"1\" class=\"dataframe\">\n",
       "  <thead>\n",
       "    <tr style=\"text-align: right;\">\n",
       "      <th></th>\n",
       "      <th>Movie</th>\n",
       "      <th>Year</th>\n",
       "      <th>Domestic</th>\n",
       "      <th>International</th>\n",
       "      <th>Total</th>\n",
       "      <th>Dates</th>\n",
       "      <th>Release Date</th>\n",
       "      <th>Season of Release</th>\n",
       "      <th>Year of Release</th>\n",
       "    </tr>\n",
       "    <tr>\n",
       "      <th>id</th>\n",
       "      <th></th>\n",
       "      <th></th>\n",
       "      <th></th>\n",
       "      <th></th>\n",
       "      <th></th>\n",
       "      <th></th>\n",
       "      <th></th>\n",
       "      <th></th>\n",
       "      <th></th>\n",
       "    </tr>\n",
       "  </thead>\n",
       "  <tbody>\n",
       "    <tr>\n",
       "      <th>tt0848228</th>\n",
       "      <td>The Avengers</td>\n",
       "      <td>2012</td>\n",
       "      <td>623357910.0</td>\n",
       "      <td>8.954551e+08</td>\n",
       "      <td>1.518813e+09</td>\n",
       "      <td>April 25-August 17, 2012</td>\n",
       "      <td>April 25</td>\n",
       "      <td>Spring</td>\n",
       "      <td>2012</td>\n",
       "    </tr>\n",
       "    <tr>\n",
       "      <th>tt4154756</th>\n",
       "      <td>Avengers: Infinity War</td>\n",
       "      <td>2018</td>\n",
       "      <td>678815482.0</td>\n",
       "      <td>1.369544e+09</td>\n",
       "      <td>2.048360e+09</td>\n",
       "      <td>April 25-May 11, 2018</td>\n",
       "      <td>April 25</td>\n",
       "      <td>Spring</td>\n",
       "      <td>2018</td>\n",
       "    </tr>\n",
       "  </tbody>\n",
       "</table>\n",
       "</div>"
      ],
      "text/plain": [
       "                            Movie  Year     Domestic  International  \\\n",
       "id                                                                    \n",
       "tt0848228            The Avengers  2012  623357910.0   8.954551e+08   \n",
       "tt4154756  Avengers: Infinity War  2018  678815482.0   1.369544e+09   \n",
       "\n",
       "                  Total                     Dates Release Date  \\\n",
       "id                                                               \n",
       "tt0848228  1.518813e+09  April 25-August 17, 2012     April 25   \n",
       "tt4154756  2.048360e+09     April 25-May 11, 2018     April 25   \n",
       "\n",
       "          Season of Release Year of Release  \n",
       "id                                           \n",
       "tt0848228            Spring            2012  \n",
       "tt4154756            Spring            2018  "
      ]
     },
     "execution_count": 428,
     "metadata": {},
     "output_type": "execute_result"
    }
   ],
   "source": [
    "sammyj_ids_df.loc[['tt0848228','tt4154756']]"
   ]
  },
  {
   "cell_type": "code",
   "execution_count": 433,
   "metadata": {},
   "outputs": [],
   "source": [
    "sammyj_no_avengers = sammyj_ids_df.sort_values('Total', ascending = False).drop(['tt4154756', 'tt0848228', 'tt2395427'])"
   ]
  },
  {
   "cell_type": "code",
   "execution_count": 436,
   "metadata": {},
   "outputs": [],
   "source": [
    "(sammyj_no_avengers.groupby('Season of Release')['Total'].mean()/1000).to_csv('no_top_three.csv')"
   ]
  },
  {
   "cell_type": "code",
   "execution_count": 441,
   "metadata": {},
   "outputs": [],
   "source": [
    "total_by_year = sammyj_ids_df.groupby('Year')['Total'].mean()"
   ]
  },
  {
   "cell_type": "code",
   "execution_count": 454,
   "metadata": {},
   "outputs": [],
   "source": [
    "eighties = re.findall('198[0-9]', total_by_year.apply('str'))\n",
    "nineties = re.findall('199[0-9]', total_by_year.apply('str'))\n",
    "two_thousands = re.findall('200[0-9]', total_by_year.apply('str'))\n",
    "two_thousand_tens = re.findall('201[0-9]', total_by_year.apply('str'))"
   ]
  },
  {
   "cell_type": "code",
   "execution_count": 459,
   "metadata": {},
   "outputs": [
    {
     "name": "stderr",
     "output_type": "stream",
     "text": [
      "C:\\Users\\richa\\Anaconda3\\lib\\site-packages\\ipykernel_launcher.py:1: FutureWarning: \n",
      "Passing list-likes to .loc or [] with any missing label will raise\n",
      "KeyError in the future, you can use .reindex() as an alternative.\n",
      "\n",
      "See the documentation here:\n",
      "https://pandas.pydata.org/pandas-docs/stable/indexing.html#deprecate-loc-reindex-listlike\n",
      "  \"\"\"Entry point for launching an IPython kernel.\n"
     ]
    }
   ],
   "source": [
    "total_eighties = total_by_year.loc[eighties].mean()\n",
    "total_nineties = total_by_year.loc[nineties].mean()\n",
    "total_two_thousands = total_by_year.loc[two_thousands].mean()\n",
    "total_two_thousand_tens = total_by_year.loc[two_thousand_tens].mean()"
   ]
  },
  {
   "cell_type": "code",
   "execution_count": 467,
   "metadata": {},
   "outputs": [],
   "source": [
    "mean_gross_total_decade = pd.Series()"
   ]
  },
  {
   "cell_type": "code",
   "execution_count": 468,
   "metadata": {},
   "outputs": [],
   "source": [
    "mean_gross_total_decade['1980\\'s'] = total_eighties\n",
    "mean_gross_total_decade['1990\\'s'] = total_nineties\n",
    "mean_gross_total_decade['2000\\'s'] = total_two_thousands\n",
    "mean_gross_total_decade['2010\\'s'] = total_two_thousand_tens"
   ]
  },
  {
   "cell_type": "code",
   "execution_count": 470,
   "metadata": {},
   "outputs": [],
   "source": [
    "(mean_gross_total_decade/1000).to_csv('total_gross_by_decade.csv')"
   ]
  },
  {
   "cell_type": "code",
   "execution_count": 473,
   "metadata": {},
   "outputs": [],
   "source": [
    "(total_by_year/1000).to_csv('mean_total_by_year.csv')"
   ]
  },
  {
   "cell_type": "code",
   "execution_count": null,
   "metadata": {},
   "outputs": [],
   "source": []
  }
 ],
 "metadata": {
  "kernelspec": {
   "display_name": "Python 3",
   "language": "python",
   "name": "python3"
  },
  "language_info": {
   "codemirror_mode": {
    "name": "ipython",
    "version": 3
   },
   "file_extension": ".py",
   "mimetype": "text/x-python",
   "name": "python",
   "nbconvert_exporter": "python",
   "pygments_lexer": "ipython3",
   "version": "3.7.1"
  }
 },
 "nbformat": 4,
 "nbformat_minor": 2
}
